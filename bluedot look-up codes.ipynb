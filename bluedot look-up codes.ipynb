{
 "cells": [
  {
   "cell_type": "markdown",
   "metadata": {},
   "source": [
    "# Bluedot look up codes"
   ]
  },
  {
   "cell_type": "code",
   "execution_count": 1,
   "metadata": {
    "vscode": {
     "languageId": "python"
    }
   },
   "outputs": [
    {
     "name": "stdout",
     "output_type": "stream",
     "text": [
      "── \u001b[1mAttaching core tidyverse packages\u001b[22m ───────────────────────────────────────────────────────────────── tidyverse 2.0.0 ──\n",
      "\u001b[32m✔\u001b[39m \u001b[34mdplyr    \u001b[39m 1.1.4     \u001b[32m✔\u001b[39m \u001b[34mreadr    \u001b[39m 2.1.5\n",
      "\u001b[32m✔\u001b[39m \u001b[34mforcats  \u001b[39m 1.0.0     \u001b[32m✔\u001b[39m \u001b[34mstringr  \u001b[39m 1.5.1\n",
      "\u001b[32m✔\u001b[39m \u001b[34mggplot2  \u001b[39m 3.5.1     \u001b[32m✔\u001b[39m \u001b[34mtibble   \u001b[39m 3.2.1\n",
      "\u001b[32m✔\u001b[39m \u001b[34mlubridate\u001b[39m 1.9.3     \u001b[32m✔\u001b[39m \u001b[34mtidyr    \u001b[39m 1.3.1\n",
      "\u001b[32m✔\u001b[39m \u001b[34mpurrr    \u001b[39m 1.0.2     \n",
      "── \u001b[1mConflicts\u001b[22m ─────────────────────────────────────────────────────────────────────────────────── tidyverse_conflicts() ──\n",
      "\u001b[31m✖\u001b[39m \u001b[34mdplyr\u001b[39m::\u001b[32mfilter()\u001b[39m masks \u001b[34mstats\u001b[39m::filter()\n",
      "\u001b[31m✖\u001b[39m \u001b[34mdplyr\u001b[39m::\u001b[32mlag()\u001b[39m    masks \u001b[34mstats\u001b[39m::lag()\n",
      "\u001b[36mℹ\u001b[39m Use the \u001b]8;;http://conflicted.r-lib.org/\u0007conflicted package\u001b]8;;\u0007 to force all conflicts to become errors\n",
      "── \u001b[1mAttaching core tidyverse packages\u001b[22m ───────────────────────────────────────────────────────────────── tidyverse 2.0.0 ──\n",
      "\u001b[32m✔\u001b[39m \u001b[34mdplyr    \u001b[39m 1.1.4     \u001b[32m✔\u001b[39m \u001b[34mreadr    \u001b[39m 2.1.5\n",
      "\u001b[32m✔\u001b[39m \u001b[34mforcats  \u001b[39m 1.0.0     \u001b[32m✔\u001b[39m \u001b[34mstringr  \u001b[39m 1.5.1\n",
      "\u001b[32m✔\u001b[39m \u001b[34mggplot2  \u001b[39m 3.5.1     \u001b[32m✔\u001b[39m \u001b[34mtibble   \u001b[39m 3.2.1\n",
      "\u001b[32m✔\u001b[39m \u001b[34mlubridate\u001b[39m 1.9.3     \u001b[32m✔\u001b[39m \u001b[34mtidyr    \u001b[39m 1.3.1\n",
      "\u001b[32m✔\u001b[39m \u001b[34mpurrr    \u001b[39m 1.0.2     \n",
      "── \u001b[1mConflicts\u001b[22m ─────────────────────────────────────────────────────────────────────────────────── tidyverse_conflicts() ──\n",
      "\u001b[31m✖\u001b[39m \u001b[34mdplyr\u001b[39m::\u001b[32mfilter()\u001b[39m masks \u001b[34mstats\u001b[39m::filter()\n",
      "\u001b[31m✖\u001b[39m \u001b[34mdplyr\u001b[39m::\u001b[32mlag()\u001b[39m    masks \u001b[34mstats\u001b[39m::lag()\n",
      "\u001b[36mℹ\u001b[39m Use the \u001b]8;;http://conflicted.r-lib.org/\u0007conflicted package\u001b]8;;\u0007 to force all conflicts to become errors\n"
     ]
    },
    {
     "name": "stdout",
     "output_type": "stream",
     "text": [
      "\n",
      "Attaching package: ‘jsonlite’\n",
      "\n",
      "The following object is masked from ‘package:purrr’:\n",
      "\n",
      "    flatten\n",
      "\n",
      "\n",
      "\n",
      "Attaching package: ‘jsonlite’\n",
      "\n",
      "The following object is masked from ‘package:purrr’:\n",
      "\n",
      "    flatten\n",
      "\n"
     ]
    },
    {
     "name": "stdout",
     "output_type": "stream",
     "text": [
      "\n",
      "Attaching package: ‘flextable’\n",
      "\n",
      "The following object is masked from ‘package:purrr’:\n",
      "\n",
      "    compose\n",
      "\n",
      "\n",
      "\n",
      "Attaching package: ‘flextable’\n",
      "\n",
      "The following object is masked from ‘package:purrr’:\n",
      "\n",
      "    compose\n",
      "\n"
     ]
    },
    {
     "name": "stdout",
     "output_type": "stream",
     "text": [
      "\n",
      "Attaching package: ‘maps’\n",
      "\n",
      "The following object is masked from ‘package:purrr’:\n",
      "\n",
      "    map\n",
      "\n",
      "\n",
      "\n",
      "Attaching package: ‘maps’\n",
      "\n",
      "The following object is masked from ‘package:purrr’:\n",
      "\n",
      "    map\n",
      "\n"
     ]
    }
   ],
   "source": [
    "# Library\n",
    "library(tidyverse)\n",
    "library(httr)\n",
    "library(jsonlite)\n",
    "library(flextable)\n",
    "library(lubridate)\n",
    "library(maps)"
   ]
  },
  {
   "cell_type": "markdown",
   "metadata": {},
   "source": [
    "## Disease codes"
   ]
  },
  {
   "cell_type": "code",
   "execution_count": null,
   "metadata": {
    "vscode": {
     "languageId": "python"
    }
   },
   "outputs": [],
   "source": [
    "# List all disease codes\n",
    "url <- \"https://developer.bluedot.global/lookups/diseases?api-version=v1\"\n",
    "res <- GET(url, add_headers(\"Ocp-Apim-Subscription-Key\" = \"85cf3f345ff343f1a0cebcc80feea87d\", \"Cache-Control\" = \"no-cache\")) |> content()\n",
    "data <- enframe(pluck(res, \"data\")) |> unnest_wider(value)"
   ]
  },
  {
   "cell_type": "code",
   "execution_count": 2,
   "metadata": {
    "vscode": {
     "languageId": "python"
    }
   },
   "outputs": [
    {
     "data": {
      "text/plain": [
       "\u001b[38;5;246m# A tibble: 1 × 4\u001b[39m\n",
       "   name diseaseId diseaseName                        isAnimalDisease\n",
       "  \u001b[3m\u001b[38;5;246m<int>\u001b[39m\u001b[23m     \u001b[3m\u001b[38;5;246m<int>\u001b[39m\u001b[23m \u001b[3m\u001b[38;5;246m<chr>\u001b[39m\u001b[23m                              \u001b[3m\u001b[38;5;246m<lgl>\u001b[39m\u001b[23m          \n",
       "\u001b[38;5;250m1\u001b[39m     1       194 Chandipura Vesiculovirus Infection FALSE          "
      ]
     },
     "execution_count": null,
     "metadata": {},
     "output_type": "execute_result"
    }
   ],
   "source": [
    "# Look up specific disease code based on string\n",
    "disease_search <- function(string) {\n",
    "  url <- paste0(\"https://developer.bluedot.global/lookups/diseases?diseaseName=\", string, \"&api-version=v1\")\n",
    "  res <- GET(url, add_headers(\"Ocp-Apim-Subscription-Key\" = \"85cf3f345ff343f1a0cebcc80feea87d\", \"Cache-Control\" = \"no-cache\")) |> content()\n",
    "  data <- enframe(pluck(res, \"data\")) |> unnest_wider(value)\n",
    "  return(data)\n",
    "}\n",
    "\n",
    "disease_search(\"chandipura\")"
   ]
  },
  {
   "cell_type": "markdown",
   "metadata": {},
   "source": [
    "# Locations ID"
   ]
  },
  {
   "cell_type": "code",
   "execution_count": null,
   "metadata": {
    "vscode": {
     "languageId": "python"
    }
   },
   "outputs": [],
   "source": [
    "# List all location and number of population (sub-national level)\n",
    "url <- \"https://developer.bluedot.global/vulnerability-indicator/population-density/?locationType=4&api-version=v1\"\n",
    "res <- GET(url, add_headers(\"Ocp-Apim-Subscription-Key\" = \"ae0e017fd9b9419a927a00f3f1524edb\", \"Cache-Control\" = \"no-cache\")) |> content()\n",
    "data <- enframe(pluck(res, \"data\")) |> unnest_wider(value)"
   ]
  },
  {
   "cell_type": "code",
   "execution_count": null,
   "metadata": {
    "vscode": {
     "languageId": "python"
    }
   },
   "outputs": [],
   "source": [
    "## Look up specific location based on string\n",
    "location_search <- function(country, level) {\n",
    "  url <- paste0(\"https://developer.bluedot.global/lookups/locations?locationType=\", level, \"&countryName=\", country, \"&api-version=v1\")\n",
    "  res <- GET(url, add_headers(\"Ocp-Apim-Subscription-Key\" = \"85cf3f345ff343f1a0cebcc80feea87d\", \"Cache-Control\" = \"no-cache\")) |> content()\n",
    "  data <- enframe(pluck(res, \"data\")) |> unnest_wider(value)\n",
    "  return(data)\n",
    "}\n",
    "\n",
    "location_search(country = \"indonesia\", level = 6)"
   ]
  },
  {
   "cell_type": "markdown",
   "metadata": {},
   "source": [
    "# Airport and Flight Passenger Number"
   ]
  },
  {
   "cell_type": "markdown",
   "metadata": {},
   "source": [
    "# Airport code search\n",
    "airport_search <- function(locationId) {\n",
    "  url <- paste0(\"https://developer.bluedot.global/lookups/locations/\", locationId, \"/airports?api-version=v1\")\n",
    "  res <- GET(url, add_headers(\"Cache-Control\" = \"no-cache\", \"Ocp-Apim-Subscription-Key\" = \"85cf3f345ff343f1a0cebcc80feea87d\")) |> content()\n",
    "  data <- enframe(pluck(res, \"data\")) |> unnest_wider(value)\n",
    "  return(data)\n",
    "}\n",
    "\n",
    "airport_search(\"1648471\")"
   ]
  },
  {
   "cell_type": "markdown",
   "metadata": {},
   "source": [
    "# Airport information based on Airport code\n",
    "airport_info <- function(airportCode) {\n",
    "  url <- paste0(\"https://developer.bluedot.global/lookups/airports?airportCodes=\", airportCode, \"&api-version=v1\")\n",
    "  res <- GET(url, add_headers(\"Cache-Control\" = \"no-cache\", \"Ocp-Apim-Subscription-Key\" = \"85cf3f345ff343f1a0cebcc80feea87d\")) |> content()\n",
    "  data <- enframe(pluck(res, \"data\")) |> unnest_wider(value)\n",
    "  return(data)\n",
    "}\n",
    "\n",
    "airport_info(\"CGK\")"
   ]
  }
 ],
 "metadata": {
  "language_info": {
   "name": "r"
  }
 },
 "nbformat": 4,
 "nbformat_minor": 2
}
